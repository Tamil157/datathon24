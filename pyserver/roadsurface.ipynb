{
 "cells": [
  {
   "cell_type": "code",
   "execution_count": 1,
   "metadata": {},
   "outputs": [],
   "source": [
    "import numpy as np # linear algebra\n",
    "import pandas as pd # data processing, CSV file I/O (e.g. pd.read_csv)"
   ]
  },
  {
   "cell_type": "code",
   "execution_count": 2,
   "metadata": {},
   "outputs": [],
   "source": [
    "import matplotlib.pyplot as plt\n",
    "import seaborn as sns\n",
    "%matplotlib inline\n",
    "import pickle"
   ]
  },
  {
   "cell_type": "code",
   "execution_count": 3,
   "metadata": {},
   "outputs": [
    {
     "name": "stderr",
     "output_type": "stream",
     "text": [
      "C:\\Users\\tamil\\AppData\\Local\\Temp\\ipykernel_238908\\2378654187.py:2: DtypeWarning: Columns (31) have mixed types. Specify dtype option on import or set low_memory=False.\n",
      "  df=pd.read_csv('Accidents0514.csv')\n"
     ]
    }
   ],
   "source": [
    "casual_df=pd.read_csv('Casualties0514.csv')\n",
    "df=pd.read_csv('Accidents0514.csv')\n",
    "vehicle_df=pd.read_csv('Vehicles0514.csv')"
   ]
  },
  {
   "cell_type": "code",
   "execution_count": 4,
   "metadata": {},
   "outputs": [],
   "source": [
    "df.dropna(inplace=True)"
   ]
  },
  {
   "cell_type": "code",
   "execution_count": 5,
   "metadata": {},
   "outputs": [
    {
     "data": {
      "text/html": [
       "<div>\n",
       "<style scoped>\n",
       "    .dataframe tbody tr th:only-of-type {\n",
       "        vertical-align: middle;\n",
       "    }\n",
       "\n",
       "    .dataframe tbody tr th {\n",
       "        vertical-align: top;\n",
       "    }\n",
       "\n",
       "    .dataframe thead th {\n",
       "        text-align: right;\n",
       "    }\n",
       "</style>\n",
       "<table border=\"1\" class=\"dataframe\">\n",
       "  <thead>\n",
       "    <tr style=\"text-align: right;\">\n",
       "      <th></th>\n",
       "      <th>Longitude</th>\n",
       "      <th>Latitude</th>\n",
       "      <th>Junction_Detail</th>\n",
       "      <th>Location_Easting_OSGR</th>\n",
       "      <th>Location_Northing_OSGR</th>\n",
       "      <th>Urban_or_Rural_Area</th>\n",
       "      <th>Road_Surface_Conditions</th>\n",
       "    </tr>\n",
       "  </thead>\n",
       "  <tbody>\n",
       "    <tr>\n",
       "      <th>0</th>\n",
       "      <td>-0.191170</td>\n",
       "      <td>51.489096</td>\n",
       "      <td>0</td>\n",
       "      <td>525680.0</td>\n",
       "      <td>178240.0</td>\n",
       "      <td>1</td>\n",
       "      <td>2</td>\n",
       "    </tr>\n",
       "    <tr>\n",
       "      <th>1</th>\n",
       "      <td>-0.211708</td>\n",
       "      <td>51.520075</td>\n",
       "      <td>6</td>\n",
       "      <td>524170.0</td>\n",
       "      <td>181650.0</td>\n",
       "      <td>1</td>\n",
       "      <td>1</td>\n",
       "    </tr>\n",
       "    <tr>\n",
       "      <th>2</th>\n",
       "      <td>-0.206458</td>\n",
       "      <td>51.525301</td>\n",
       "      <td>0</td>\n",
       "      <td>524520.0</td>\n",
       "      <td>182240.0</td>\n",
       "      <td>1</td>\n",
       "      <td>1</td>\n",
       "    </tr>\n",
       "    <tr>\n",
       "      <th>3</th>\n",
       "      <td>-0.173862</td>\n",
       "      <td>51.482442</td>\n",
       "      <td>0</td>\n",
       "      <td>526900.0</td>\n",
       "      <td>177530.0</td>\n",
       "      <td>1</td>\n",
       "      <td>1</td>\n",
       "    </tr>\n",
       "    <tr>\n",
       "      <th>4</th>\n",
       "      <td>-0.156618</td>\n",
       "      <td>51.495752</td>\n",
       "      <td>0</td>\n",
       "      <td>528060.0</td>\n",
       "      <td>179040.0</td>\n",
       "      <td>1</td>\n",
       "      <td>2</td>\n",
       "    </tr>\n",
       "    <tr>\n",
       "      <th>...</th>\n",
       "      <td>...</td>\n",
       "      <td>...</td>\n",
       "      <td>...</td>\n",
       "      <td>...</td>\n",
       "      <td>...</td>\n",
       "      <td>...</td>\n",
       "      <td>...</td>\n",
       "    </tr>\n",
       "    <tr>\n",
       "      <th>1631803</th>\n",
       "      <td>-3.265712</td>\n",
       "      <td>52.531575</td>\n",
       "      <td>0</td>\n",
       "      <td>314240.0</td>\n",
       "      <td>293390.0</td>\n",
       "      <td>2</td>\n",
       "      <td>2</td>\n",
       "    </tr>\n",
       "    <tr>\n",
       "      <th>1631804</th>\n",
       "      <td>-3.282677</td>\n",
       "      <td>52.511702</td>\n",
       "      <td>0</td>\n",
       "      <td>313050.0</td>\n",
       "      <td>291200.0</td>\n",
       "      <td>2</td>\n",
       "      <td>1</td>\n",
       "    </tr>\n",
       "    <tr>\n",
       "      <th>1631805</th>\n",
       "      <td>-3.259644</td>\n",
       "      <td>52.828952</td>\n",
       "      <td>0</td>\n",
       "      <td>315230.0</td>\n",
       "      <td>326460.0</td>\n",
       "      <td>2</td>\n",
       "      <td>2</td>\n",
       "    </tr>\n",
       "    <tr>\n",
       "      <th>1631806</th>\n",
       "      <td>-3.410628</td>\n",
       "      <td>51.944879</td>\n",
       "      <td>1</td>\n",
       "      <td>303140.0</td>\n",
       "      <td>228320.0</td>\n",
       "      <td>2</td>\n",
       "      <td>2</td>\n",
       "    </tr>\n",
       "    <tr>\n",
       "      <th>1631807</th>\n",
       "      <td>-3.105177</td>\n",
       "      <td>52.766481</td>\n",
       "      <td>0</td>\n",
       "      <td>325530.0</td>\n",
       "      <td>319340.0</td>\n",
       "      <td>2</td>\n",
       "      <td>1</td>\n",
       "    </tr>\n",
       "  </tbody>\n",
       "</table>\n",
       "<p>1519998 rows × 7 columns</p>\n",
       "</div>"
      ],
      "text/plain": [
       "         Longitude   Latitude  Junction_Detail  Location_Easting_OSGR  \\\n",
       "0        -0.191170  51.489096                0               525680.0   \n",
       "1        -0.211708  51.520075                6               524170.0   \n",
       "2        -0.206458  51.525301                0               524520.0   \n",
       "3        -0.173862  51.482442                0               526900.0   \n",
       "4        -0.156618  51.495752                0               528060.0   \n",
       "...            ...        ...              ...                    ...   \n",
       "1631803  -3.265712  52.531575                0               314240.0   \n",
       "1631804  -3.282677  52.511702                0               313050.0   \n",
       "1631805  -3.259644  52.828952                0               315230.0   \n",
       "1631806  -3.410628  51.944879                1               303140.0   \n",
       "1631807  -3.105177  52.766481                0               325530.0   \n",
       "\n",
       "         Location_Northing_OSGR  Urban_or_Rural_Area  Road_Surface_Conditions  \n",
       "0                      178240.0                    1                        2  \n",
       "1                      181650.0                    1                        1  \n",
       "2                      182240.0                    1                        1  \n",
       "3                      177530.0                    1                        1  \n",
       "4                      179040.0                    1                        2  \n",
       "...                         ...                  ...                      ...  \n",
       "1631803                293390.0                    2                        2  \n",
       "1631804                291200.0                    2                        1  \n",
       "1631805                326460.0                    2                        2  \n",
       "1631806                228320.0                    2                        2  \n",
       "1631807                319340.0                    2                        1  \n",
       "\n",
       "[1519998 rows x 7 columns]"
      ]
     },
     "execution_count": 5,
     "metadata": {},
     "output_type": "execute_result"
    }
   ],
   "source": [
    "q3_df=pd.DataFrame(data=df,columns=['Longitude','Latitude','Junction_Detail','Location_Easting_OSGR','Location_Northing_OSGR','Urban_or_Rural_Area','Road_Surface_Conditions'])\n",
    "q3_df"
   ]
  },
  {
   "cell_type": "code",
   "execution_count": 6,
   "metadata": {},
   "outputs": [
    {
     "data": {
      "text/plain": [
       "array([ 2,  1,  4,  3,  5, -1], dtype=int64)"
      ]
     },
     "execution_count": 6,
     "metadata": {},
     "output_type": "execute_result"
    }
   ],
   "source": [
    "X=q3_df.drop('Road_Surface_Conditions',axis=1)\n",
    "y=q3_df['Road_Surface_Conditions']\n",
    "q3_df['Road_Surface_Conditions'].unique()"
   ]
  },
  {
   "cell_type": "code",
   "execution_count": 7,
   "metadata": {},
   "outputs": [],
   "source": [
    "from sklearn.model_selection import train_test_split"
   ]
  },
  {
   "cell_type": "code",
   "execution_count": 8,
   "metadata": {},
   "outputs": [],
   "source": [
    "X_train, X_test, y_train, y_test= train_test_split(X,y)\n"
   ]
  },
  {
   "cell_type": "code",
   "execution_count": 9,
   "metadata": {},
   "outputs": [],
   "source": [
    "from sklearn.tree import DecisionTreeClassifier"
   ]
  },
  {
   "cell_type": "code",
   "execution_count": 10,
   "metadata": {},
   "outputs": [],
   "source": [
    "dtree= DecisionTreeClassifier()"
   ]
  },
  {
   "cell_type": "code",
   "execution_count": 11,
   "metadata": {},
   "outputs": [],
   "source": [
    "dtree.fit(X_train.values,y_train.values)"
   ]
  },
  {
   "cell_type": "code",
   "execution_count": null,
   "metadata": {},
   "outputs": [],
   "source": [
    "predictions= dtree.predict(X_test.values)"
   ]
  },
  {
   "cell_type": "code",
   "execution_count": null,
   "metadata": {},
   "outputs": [],
   "source": [
    "from sklearn.metrics import classification_report, confusion_matrix"
   ]
  },
  {
   "cell_type": "code",
   "execution_count": null,
   "metadata": {},
   "outputs": [
    {
     "name": "stdout",
     "output_type": "stream",
     "text": [
      "              precision    recall  f1-score   support\n",
      "\n",
      "          -1       0.03      0.03      0.03       525\n",
      "           1       0.71      0.73      0.72    263724\n",
      "           2       0.31      0.29      0.30    105458\n",
      "           3       0.01      0.01      0.01      2221\n",
      "           4       0.07      0.07      0.07      7568\n",
      "           5       0.03      0.03      0.03       504\n",
      "\n",
      "    accuracy                           0.59    380000\n",
      "   macro avg       0.19      0.19      0.19    380000\n",
      "weighted avg       0.58      0.59      0.59    380000\n",
      "\n"
     ]
    }
   ],
   "source": [
    "print(classification_report(y_test,predictions))"
   ]
  },
  {
   "cell_type": "code",
   "execution_count": null,
   "metadata": {},
   "outputs": [],
   "source": [
    "pickle.dump(dtree, open(\"road_surface.pkl\", \"wb\"))\n"
   ]
  }
 ],
 "metadata": {
  "kernelspec": {
   "display_name": "Python 3",
   "language": "python",
   "name": "python3"
  },
  "language_info": {
   "codemirror_mode": {
    "name": "ipython",
    "version": 3
   },
   "file_extension": ".py",
   "mimetype": "text/x-python",
   "name": "python",
   "nbconvert_exporter": "python",
   "pygments_lexer": "ipython3",
   "version": "3.11.9"
  }
 },
 "nbformat": 4,
 "nbformat_minor": 2
}
